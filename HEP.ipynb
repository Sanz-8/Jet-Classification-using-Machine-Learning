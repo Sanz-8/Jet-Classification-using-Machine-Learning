{
  "cells": [
    {
      "cell_type": "markdown",
      "metadata": {
        "id": "view-in-github",
        "colab_type": "text"
      },
      "source": [
        "<a href=\"https://colab.research.google.com/github/Sanz-8/Jet-Classification-using-Machine-Learning/blob/main/HEP.ipynb\" target=\"_parent\"><img src=\"https://colab.research.google.com/assets/colab-badge.svg\" alt=\"Open In Colab\"/></a>"
      ]
    },
    {
      "cell_type": "code",
      "execution_count": null,
      "metadata": {
        "id": "puNXWeTiScpH"
      },
      "outputs": [],
      "source": [
        "pip install -U \"datasets>=2.14.6\""
      ]
    },
    {
      "cell_type": "code",
      "execution_count": null,
      "metadata": {
        "id": "agAFlpp7SlSK"
      },
      "outputs": [],
      "source": [
        "import tensorflow as tf\n",
        "from tensorflow import keras\n",
        "from tensorflow.keras import  Input\n",
        "from tensorflow.keras.models import Sequential\n",
        "from tensorflow.keras.layers import Conv2D, MaxPooling2D, Dense, Flatten,Activation,BatchNormalization,Dropout,GlobalAveragePooling2D\n",
        "from tensorflow.keras.callbacks import ReduceLROnPlateau,EarlyStopping\n",
        "from tensorflow.keras.optimizers import SGD,Adam\n",
        "from tensorflow.keras.regularizers import l2"
      ]
    },
    {
      "cell_type": "code",
      "execution_count": null,
      "metadata": {
        "id": "lMoMb99FSpzs"
      },
      "outputs": [],
      "source": [
        "import numpy as np\n",
        "import matplotlib.pyplot as plt"
      ]
    },
    {
      "cell_type": "code",
      "execution_count": null,
      "metadata": {
        "id": "_ekkdbk5yOtb"
      },
      "outputs": [],
      "source": [
        "#Inserting token in the collab notebook\n",
        "from huggingface_hub import login\n",
        "from google.colab import userdata\n",
        "\n",
        "token = userdata.get('token_name')\n",
        "login(token=token)\n"
      ]
    },
    {
      "cell_type": "code",
      "execution_count": null,
      "metadata": {
        "id": "akvNoRVgSvCS"
      },
      "outputs": [],
      "source": [
        "#Loading the data from the huggingface\n",
        "from datasets import load_dataset\n",
        "\n",
        "ds = load_dataset(\"dl4phys/top_tagging_images\")"
      ]
    },
    {
      "cell_type": "code",
      "execution_count": null,
      "metadata": {
        "id": "pVu0ItCQSv8u"
      },
      "outputs": [],
      "source": [
        "#Converting pilimage to tensorflow\n",
        "def preprocess_pil_grayscale(pil_image,target_size=(40, 40)):\n",
        "\n",
        "    pil_image = pil_image.convert(\"L\")  #Here, L implies black and white(grayscale)\n",
        "\n",
        "    pil_image = pil_image.resize(target_size) # Reshaping it into required size\n",
        "\n",
        "\n",
        "    img_array = np.array(pil_image, dtype=np.float32)/255.0 #Converting it into Numpy and normalizing it\n",
        "\n",
        "    img_array = np.expand_dims(img_array, axis=-1) # Changing the dimension it into(H,W,1)\n",
        "\n",
        "    img_tensor = tf.convert_to_tensor(img_array, dtype=tf.float32) #Converting it into tensor\n",
        "\n",
        "    return img_tensor"
      ]
    },
    {
      "cell_type": "code",
      "execution_count": null,
      "metadata": {
        "id": "-c24gEQhS1Kl"
      },
      "outputs": [],
      "source": [
        "#The total size of the datasets is 1.2M but due to limited computational power, let's train only 500K datasets(picked randomly)\n",
        "total_size = 1_200_000\n",
        "sample_size = 500_000\n",
        "train_indices = np.random.choice(total_size, size=sample_size, replace=False)\n",
        "train_label=ds[\"train\"][train_indices][\"label\"]\n",
        "train_image = [preprocess_pil_grayscale(img) for img in ds[\"train\"][train_indices][\"image\"]]"
      ]
    },
    {
      "cell_type": "code",
      "execution_count": null,
      "metadata": {
        "id": "ZkgRsr3pS5DS"
      },
      "outputs": [],
      "source": [
        "#Similar for validation datasets,let's randomly pick 50k from 400k\n",
        "total_size = 400_000\n",
        "sample_size = 50_000\n",
        "val_indices = np.random.choice(total_size, size=sample_size, replace=False)\n",
        "val_label=ds[\"validation\"][val_indices][\"label\"]\n",
        "val_image= [preprocess_pil_grayscale(img) for img  in ds[\"validation\"][val_indices][\"image\"]]"
      ]
    },
    {
      "cell_type": "code",
      "execution_count": null,
      "metadata": {
        "id": "NysDsU68S9W6"
      },
      "outputs": [],
      "source": [
        "#For efficient computation, convert the datasets into tensorflow datasets , so that it can be batch and shuffle\n",
        "train_ds = tf.data.Dataset.from_tensor_slices((train_image, train_label))\n",
        "train_ds = train_ds.shuffle(1000).batch(256).prefetch(tf.data.AUTOTUNE)\n",
        "val_ds = tf.data.Dataset.from_tensor_slices((val_image, val_label))\n",
        "val_ds = val_ds.batch(256).prefetch(tf.data.AUTOTUNE)\n"
      ]
    },
    {
      "cell_type": "code",
      "execution_count": null,
      "metadata": {
        "id": "C9CV82rTOVjx"
      },
      "outputs": [],
      "source": [
        "#For visualization purposes, let's find out the indices which belong to the jets(signal) and background\n",
        "labels = np.array(train_label)\n",
        "indices = np.array(train_indices)\n",
        "signal = indices[labels == 1].tolist()\n",
        "background =indices[labels == 0].tolist()"
      ]
    },
    {
      "cell_type": "code",
      "execution_count": 41,
      "metadata": {
        "colab": {
          "base_uri": "https://localhost:8080/",
          "height": 448
        },
        "id": "B61ogv0uTikN",
        "outputId": "bdaeedda-16ca-4d7e-9e79-6243cdeff0c5"
      },
      "outputs": [
        {
          "output_type": "execute_result",
          "data": {
            "text/plain": [
              "<matplotlib.image.AxesImage at 0x7c0eee78da90>"
            ]
          },
          "metadata": {},
          "execution_count": 41
        },
        {
          "output_type": "display_data",
          "data": {
            "text/plain": [
              "<Figure size 640x480 with 1 Axes>"
            ],
            "image/png": "[encoded data removed]"
          },
          "metadata": {}
        }
      ],
      "source": [
        "#All the jet images from the training datasets\n",
        "plt.imshow(np.sum(ds['train'][signal]['image'],axis=0))"
      ]
    },
    {
      "cell_type": "code",
      "execution_count": 42,
      "metadata": {
        "colab": {
          "base_uri": "https://localhost:8080/",
          "height": 448
        },
        "id": "aHmlhXfxOCFG",
        "outputId": "713e51ae-ca60-4a9e-c86f-81a6a67d8614"
      },
      "outputs": [
        {
          "output_type": "execute_result",
          "data": {
            "text/plain": [
              "<matplotlib.image.AxesImage at 0x7c0ef5cf7d10>"
            ]
          },
          "metadata": {},
          "execution_count": 42
        },
        {
          "output_type": "display_data",
          "data": {
            "text/plain": [
              "<Figure size 640x480 with 1 Axes>"
            ],
            "image/png": "[encoded data removed]"
          },
          "metadata": {}
        }
      ],
      "source": [
        "#All the background images from the training datasets\n",
        "plt.imshow(np.sum(ds['train'][background]['image'],axis=0))"
      ]
    },
    {
      "cell_type": "code",
      "execution_count": null,
      "metadata": {
        "id": "-du7zGu0TqUB"
      },
      "outputs": [],
      "source": [
        "#Defining the test datasets randomly by picking 50k from 400k\n",
        "test_indices = np.random.choice(400_000, size=50_000, replace=False)\n",
        "test_label=ds[\"test\"][test_indices][\"label\"]\n",
        "test_image= [preprocess_pil_grayscale(img) for img  in ds[\"test\"][test_indices][\"image\"]]"
      ]
    },
    {
      "cell_type": "markdown",
      "metadata": {
        "id": "YX1yPm01rNwH"
      },
      "source": []
    },
    {
      "cell_type": "code",
      "execution_count": null,
      "metadata": {
        "id": "HheUWHtJnmHS"
      },
      "outputs": [],
      "source": [
        "test_ds = tf.data.Dataset.from_tensor_slices((test_image, test_label))\n",
        "test_ds = test_ds.batch(256).prefetch(tf.data.AUTOTUNE)"
      ]
    },
    {
      "cell_type": "code",
      "source": [
        "# Defining the CNN architecture\n",
        "model=Sequential([\n",
        "    Input(shape=(224, 224, 3)),\n",
        "    Conv2D(filters=64,kernel_size=4, padding='same'),\n",
        "    BatchNormalization(),\n",
        "    Activation('relu'),\n",
        "\n",
        "    Conv2D(filters=64,kernel_size=4,padding='same'),\n",
        "    BatchNormalization(),\n",
        "    Activation('relu'),\n",
        "    MaxPooling2D(2),\n",
        "\n",
        "    Conv2D(filters=128,kernel_size=4,padding='same'),\n",
        "    BatchNormalization(),\n",
        "    Activation('relu'),\n",
        "\n",
        "    Conv2D(filters=128,kernel_size=4,padding='same'),\n",
        "    BatchNormalization(),\n",
        "    Activation('relu'),\n",
        "    MaxPooling2D(2),\n",
        "\n",
        "    Conv2D(filters=256,kernel_size=4,padding='same'),\n",
        "    BatchNormalization(),\n",
        "    Activation('relu'),\n",
        "\n",
        "    Conv2D(filters=256,kernel_size=4,padding='same'),\n",
        "    BatchNormalization(),\n",
        "    Activation('relu'),\n",
        "    MaxPooling2D(2),\n",
        "\n",
        "    Conv2D(filters=512,kernel_size=4,padding='same'),\n",
        "    BatchNormalization(),\n",
        "    Activation('relu'),\n",
        "    MaxPooling2D(2),\n",
        "\n",
        "    GlobalAveragePooling2D(),\n",
        "\n",
        "    Dense(units=256),\n",
        "    BatchNormalization(),\n",
        "    Activation('relu'),\n",
        "    Dropout(0.5),\n",
        "\n",
        "    Dense(units=256),\n",
        "    BatchNormalization(),\n",
        "    Activation('relu'),\n",
        "    Dropout(0.5),\n",
        "\n",
        "    Dense(units=64),\n",
        "    BatchNormalization(),\n",
        "    Activation('relu'),\n",
        "    Dropout(0.5),\n",
        "    Dense(1, activation='sigmoid')\n",
        "\n",
        "]\n",
        ")"
      ],
      "metadata": {
        "id": "oroOQnm0CtgE"
      },
      "execution_count": null,
      "outputs": []
    },
    {
      "cell_type": "code",
      "source": [
        "# Using Adam optimizer with initial learning rate=1e-5.\n",
        "model.compile(optimizer=Adam(learning_rate=0.00001),loss='binary_crossentropy', metrics=['accuracy'])"
      ],
      "metadata": {
        "id": "6Mhf98XZC6QB"
      },
      "execution_count": null,
      "outputs": []
    },
    {
      "cell_type": "code",
      "execution_count": null,
      "metadata": {
        "id": "5hLsa_SCTLFj"
      },
      "outputs": [],
      "source": [
        "# Reduce the learning rate by a factor of 0.5 when validation accuracy does not improves after three consecutive epochs\n",
        "reduce_alpha= ReduceLROnPlateau(\n",
        "    monitor='val_accuracy',\n",
        "    factor=0.5,\n",
        "    patience=3,\n",
        "    min_lr=1e-7,\n",
        "    verbose=1\n",
        ")\n",
        "# Stop training when the validation accuracy does not improves after five consecutive epochs\n",
        "stop_early=EarlyStopping(monitor='val_accuracy',patience=5,restore_best_weights=True)"
      ]
    },
    {
      "cell_type": "code",
      "source": [
        "history=model.fit(train_ds,validation_data=val_ds,epochs=30,callbacks=[reduce_alpha,stop_early])"
      ],
      "metadata": {
        "id": "rz_rkdxBC9oF"
      },
      "execution_count": null,
      "outputs": []
    },
    {
      "cell_type": "code",
      "execution_count": null,
      "metadata": {
        "id": "ZDFzVuUhUOq6"
      },
      "outputs": [],
      "source": [
        "#Let's check the model prediction(probability)\n",
        "y_prob=model.predict(test_ds)"
      ]
    },
    {
      "cell_type": "code",
      "execution_count": null,
      "metadata": {
        "id": "06_hZWovnz4v"
      },
      "outputs": [],
      "source": [
        "#Converting the probability into binary values(1 or 0)\n",
        "y_hat=(y_prob>0.5).astype(int)"
      ]
    },
    {
      "cell_type": "code",
      "execution_count": 40,
      "metadata": {
        "colab": {
          "base_uri": "https://localhost:8080/"
        },
        "id": "eaiTBhWfn20Y",
        "outputId": "1bc3409c-13ef-44e0-fe93-bf1602530233"
      },
      "outputs": [
        {
          "output_type": "stream",
          "name": "stdout",
          "text": [
            "0.913\n"
          ]
        }
      ],
      "source": [
        "# Let's check the accuracy of the model\n",
        "from sklearn.metrics import accuracy_score\n",
        "print(accuracy_score(test_label,y_hat))"
      ]
    },
    {
      "cell_type": "markdown",
      "source": [
        "The accuracy improves from 0.859(XGBClassifier) to 0.913."
      ],
      "metadata": {
        "id": "o-UqVqrTdBzz"
      }
    },
    {
      "cell_type": "code",
      "source": [
        "#Let's check important parameters\n",
        "from sklearn.metrics import precision_score, recall_score, f1_score, roc_auc_score\n",
        "print(\"Accuracy Score:\",accuracy_score(test_label,y_hat))\n",
        "print(\"Precision Score:\",precision_score(test_label,y_hat))\n",
        "print(\"Recall Score:\",recall_score(test_label,y_hat))\n",
        "print(\"F1 Score:\",f1_score(test_label,y_hat))\n",
        "print(\"ROC AUC Score:\",roc_auc_score(test_label,y_prob))\n"
      ],
      "metadata": {
        "colab": {
          "base_uri": "https://localhost:8080/"
        },
        "id": "shqkidZZaR5-",
        "outputId": "d567546a-325b-4236-cdac-0c4a30334e19"
      },
      "execution_count": 39,
      "outputs": [
        {
          "output_type": "stream",
          "name": "stdout",
          "text": [
            "Accuracy Score: 0.913\n",
            "Precision Score: 0.8950003822337742\n",
            "Recall Score: 0.9359261331841074\n",
            "F1 Score: 0.9150058616647128\n",
            "ROC AUC Score: 0.972034450302659\n"
          ]
        }
      ]
    },
    {
      "cell_type": "code",
      "source": [
        "plt.plot(history.history['accuracy'],'ro',linestyle='dashed')\n",
        "plt.plot(history.history['val_accuracy'],'bo',linestyle='dashed')\n",
        "plt.title('model accuracy')\n",
        "plt.ylabel('accuracy')\n",
        "plt.xlabel('epoch')\n",
        "plt.legend(['train', 'validation'])\n",
        "plt.show()"
      ],
      "metadata": {
        "colab": {
          "base_uri": "https://localhost:8080/",
          "height": 472
        },
        "id": "pQP6EV32ZelV",
        "outputId": "da659de8-9fd3-475f-80bc-f6271ec97e66"
      },
      "execution_count": 37,
      "outputs": [
        {
          "output_type": "display_data",
          "data": {
            "text/plain": [
              "<Figure size 640x480 with 1 Axes>"
            ],
            "image/png": "[encoded data removed]"
          },
          "metadata": {}
        }
      ]
    },
    {
      "cell_type": "code",
      "source": [
        "plt.plot(history.history['loss'],'go',linestyle='dashed')\n",
        "plt.plot(history.history['val_loss'],'yo',linestyle='dashed')\n",
        "plt.title('model loss')\n",
        "plt.ylabel('loss')\n",
        "plt.xlabel('epoch')\n",
        "plt.legend(['train', 'validation'])\n",
        "plt.show()"
      ],
      "metadata": {
        "colab": {
          "base_uri": "https://localhost:8080/",
          "height": 472
        },
        "id": "4C_VhnihZrMo",
        "outputId": "a8d75831-b2b4-4849-a348-5d763a1de69e"
      },
      "execution_count": 38,
      "outputs": [
        {
          "output_type": "display_data",
          "data": {
            "text/plain": [
              "<Figure size 640x480 with 1 Axes>"
            ],
            "image/png": "[encoded data removed]"
          },
          "metadata": {}
        }
      ]
    },
    {
      "cell_type": "markdown",
      "source": [
        "Looking at the above plots the accuracy of the model and the loss values do not stabilises.  "
      ],
      "metadata": {
        "id": "UhsyKg3QdAiC"
      }
    },
    {
      "cell_type": "markdown",
      "source": [
        "Below are the  training, validationa and test accuracy for different CNN architecture with different sizes of data"
      ],
      "metadata": {
        "id": "DW69TEY7dd4O"
      }
    },
    {
      "cell_type": "markdown",
      "metadata": {
        "id": "bSplSgYQpfMM"
      },
      "source": [
        "#(64-4)-(64-4)-Max(2)-(256-4)-(256-4)-Max(2)-(512-4)-Max(2)-Dense(256)-Dense(64)-Dense(1)- Dataset(400K)\n",
        "1) Alpha=1e-5,epochs=20, training accuracy=0.914, val_accuracy=0.904, test_accuracy=0.906  \n",
        "2) Alpha=1e-4,epochs=10, training accuracy=0.900, val_accuracy=0.8944, test_accuracy=0.89,"
      ]
    },
    {
      "cell_type": "markdown",
      "metadata": {
        "id": "Pt7E44TQyj72"
      },
      "source": [
        "#(64-4)-(64-4)-Max(2)-(128-4)-(128-4)-Max(2)-(256-4)-(256-4)-Max(2)-Dense(256)-Dense(256)-Dense(64)-Dense(1)-DataSet(400k)\n",
        "1) Alpha=1e-5,epochs=20, training accuracy=0.9195, val_accuracy=0.91, test_accuracy=0.9093"
      ]
    },
    {
      "cell_type": "markdown",
      "metadata": {
        "id": "4gU8zuynPwDC"
      },
      "source": [
        "#(64-4)-(64-4)-Max(2)-(128-4)-(128-4)-Max(2)-(256-4)-(256-4)-Max(2)-Dense(256)-Dense(256)-Dense(64)-Dense(1)-DataSet(500k)\n",
        "1) Alpha=1e-5,epochs=25, training accuracy=0.9265 , val_accuracy=0.91548, test_accuracy=0.9139,"
      ]
    },
    {
      "cell_type": "markdown",
      "metadata": {
        "id": "hq6WrBA7f40a"
      },
      "source": [
        "#(64-4)-(64-4)-Max(2)-(128-4)-(128-4)-Max(2)-(256-4)-(256-4)-Max(2)-(512-4)-Max(2)-Dense(256)-Dense(256)-Dense(64)-Dense(1)-DataSet(500k)\n",
        "1) Alpha=1e-5,epochs=10, training accuracy=0.9248, val_accuracy=0.91346, test_accuracy=0.91528"
      ]
    },
    {
      "cell_type": "markdown",
      "metadata": {
        "id": "h9oZy0rSLsgd"
      },
      "source": [
        "#(64-4)-(64-4)-Max(2)-(128-4)-(128-4)-Max(2)-(256-4)-(256-4)-Max(2)-(512-4)-Max(2)-Dense(256)-Dense(256)-Dense(64)-Dense(1)-DataSet(700k)\n",
        "1) Alpha=1e-5,epochs=10, training accuracy=0.9301, val_accuracy=0.91346, test_accuracy=0.91528"
      ]
    },
    {
      "cell_type": "markdown",
      "metadata": {
        "id": "qqldG-IqAwPZ"
      },
      "source": [
        "#(64-4)-(64-4)-Max(2)-(128-4)-(128-4)-Max(2)-(256-4)-(256-4)-Max(2)-(512-4)-Max(2)-Dense(256)-Dense(256)-Dense(64)-Dense(1)-DataSet(700k)\n",
        "1) Alpha=1e-5,epochs=16, training accuracy=0.9248, val_accuracy=0.916, test_accuracy=0.91528"
      ]
    },
    {
      "cell_type": "markdown",
      "metadata": {
        "id": "YKbTLRtD-Ugz"
      },
      "source": [
        "#(64-4)-(64-4)-Max(2)-(128-4)-(128-4)-Max(2)-(256-4)-(256-4)-Max(2)-Dense(256)-Dense(256)-Dense(64)-Dense(1)-DataSet(700k)\n",
        "1) Alpha=1e-5,epochs=25, training accuracy=0.9265 , val_accuracy=0.9124, test_accuracy=0.91274,"
      ]
    },
    {
      "cell_type": "markdown",
      "source": [
        "# From the above observation, we noticed that even though the  accuracy of the model increases as the network becomes deeper, the  increase in the accuracy is very small. So, increasing the depth would hardly improves the accuracy score. So,It's better to train the datasets in another model."
      ],
      "metadata": {
        "id": "SNEvbWM9dvZ1"
      }
    }
  ],
  "metadata": {
    "accelerator": "GPU",
    "colab": {
      "gpuType": "T4",
      "machine_shape": "hm",
      "provenance": [],
      "authorship_tag": "ABX9TyMB9J6rBcjqYOfWXEmvJ4BJ",
      "include_colab_link": true
    },
    "kernelspec": {
      "display_name": "Python 3",
      "name": "python3"
    },
    "language_info": {
      "name": "python"
    }
  },
  "nbformat": 4,
  "nbformat_minor": 0
}